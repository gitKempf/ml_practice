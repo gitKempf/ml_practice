{
  "nbformat": 4,
  "nbformat_minor": 0,
  "metadata": {
    "accelerator": "TPU",
    "colab": {
      "name": "PyTanic_DS_v1.ipynb",
      "provenance": [],
      "collapsed_sections": []
    },
    "kernelspec": {
      "display_name": "Python 3",
      "language": "python",
      "name": "python3"
    },
    "language_info": {
      "codemirror_mode": {
        "name": "ipython",
        "version": 3
      },
      "file_extension": ".py",
      "mimetype": "text/x-python",
      "name": "python",
      "nbconvert_exporter": "python",
      "pygments_lexer": "ipython3",
      "version": "3.6.5"
    }
  },
  "cells": [
    {
      "cell_type": "code",
      "metadata": {
        "id": "MllRv1KBpJlt"
      },
      "source": [
        "df = pd.read_csv('/content/train.csv')\n",
        "df_test = pd.read_csv('/content/test.csv')\n",
        "\n",
        "\n",
        "def get_title(name):\n",
        "    if '.' in name:\n",
        "        return name.split(',')[1].split('.')[0].strip()\n",
        "    else:\n",
        "        return 'Unknown'\n",
        "\n",
        "\n",
        "def replace_titles(x):\n",
        "    title = x['Title']\n",
        "    if title in ['Capt', 'Col', 'Major']:\n",
        "        return 'Officer'\n",
        "    elif title in [\"Jonkheer\",\"Don\",'the Countess', 'Dona', 'Lady',\"Sir\"]:\n",
        "        return 'Royalty'\n",
        "    elif title in ['the Countess', 'Mme', 'Lady']:\n",
        "        return 'Mrs'\n",
        "    elif title in ['Mlle', 'Ms']:\n",
        "        return 'Miss'\n",
        "    else:\n",
        "        return title\n",
        "\n",
        "\n",
        "df['Title'] = df['Name'].map(lambda x: get_title(x))\n",
        "\n",
        "df['Title'] = df.apply(replace_titles, axis=1)\n",
        "df['Age'].fillna(df['Age'].median(), inplace=True)\n",
        "df['Fare'].fillna(df['Fare'].median(), inplace=True)\n",
        "df['Embarked'].fillna(\"S\", inplace=True)\n",
        "df.drop(\"Cabin\", axis=1, inplace=True)\n",
        "df.drop(\"Ticket\", axis=1, inplace=True)\n",
        "df.drop(\"Name\", axis=1, inplace=True)\n",
        "df.Sex.replace(('male','female'), (0,1), inplace = True)\n",
        "df.Embarked.replace(('S','C','Q'), (0,1,2), inplace = True)\n",
        "df.Title.replace(('Mr','Miss','Mrs','Master','Dr','Rev','Officer','Royalty'), (0,1,2,3,4,5,6,7), inplace = True)"
      ],
      "execution_count": 14,
      "outputs": []
    },
    {
      "cell_type": "code",
      "metadata": {
        "id": "hDc6iXVmPATs"
      },
      "source": [
        "y= df['Survived']\n",
        "x= df.drop(['Survived', 'PassengerId'], axis=1)"
      ],
      "execution_count": 15,
      "outputs": []
    },
    {
      "cell_type": "code",
      "metadata": {
        "id": "Fwe7KCzNPATw"
      },
      "source": [
        "from sklearn.model_selection import train_test_split"
      ],
      "execution_count": 16,
      "outputs": []
    },
    {
      "cell_type": "code",
      "metadata": {
        "id": "zcukBgsZPAT0"
      },
      "source": [
        "x_train, x_test, y_train, y_test = train_test_split(x, y, test_size=0.1, ) "
      ],
      "execution_count": 17,
      "outputs": []
    },
    {
      "cell_type": "code",
      "metadata": {
        "id": "R7N2A-E9Y1jH",
        "outputId": "0959f8a0-e3b7-4f8f-c329-5c9a20a11a66",
        "colab": {
          "base_uri": "https://localhost:8080/"
        }
      },
      "source": [
        "import pickle\n",
        "from sklearn.ensemble import RandomForestClassifier\n",
        "from sklearn.metrics import accuracy_score\n",
        "\n",
        "randomforest = RandomForestClassifier()\n",
        "randomforest.fit(x_train, y_train)\n",
        "y_prep = randomforest.predict(x_test)\n",
        "acc_randomforest = round(accuracy_score(y_prep, y_test) * 100, 2)\n",
        "print(acc_randomforest)\n",
        "\n",
        "pickle.dump(randomforest, open('titanic_model.sav', 'wb'))"
      ],
      "execution_count": 18,
      "outputs": [
        {
          "output_type": "stream",
          "text": [
            "77.78\n"
          ],
          "name": "stdout"
        }
      ]
    },
    {
      "cell_type": "code",
      "metadata": {
        "id": "mlEMEjI5a6uJ"
      },
      "source": [
        ""
      ],
      "execution_count": null,
      "outputs": []
    }
  ]
}